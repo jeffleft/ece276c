{
 "cells": [
  {
   "cell_type": "code",
   "execution_count": 4,
   "metadata": {},
   "outputs": [],
   "source": [
    "from __future__ import division\n",
    "import numpy as np\n",
    "#from sklearn.gaussian_process import GaussianProcess\n",
    "from scipy.optimize import minimize\n",
    "from acquisition_functions import AcquisitionFunction, unique_rows\n",
    "#from visualization import Visualization\n",
    "from prada_gaussian_process import PradaGaussianProcess\n",
    "from prada_gaussian_process import PradaMultipleGaussianProcess\n",
    "\n",
    "from acquisition_maximization import acq_max_nlopt\n",
    "from acquisition_maximization import acq_max_direct\n",
    "from acquisition_maximization import acq_max\n",
    "from sklearn.metrics.pairwise import euclidean_distances\n",
    "import time"
   ]
  },
  {
   "cell_type": "code",
   "execution_count": 2,
   "metadata": {},
   "outputs": [],
   "source": [
    "class PradaBayOptFn(object):\n",
    "\n",
    "    def __init__(self, f, pbounds, acq='ei', verbose=1, opt='nlopt'):\n",
    "        \"\"\"      \n",
    "        Input parameters\n",
    "        ----------\n",
    "        f:              function to optimize:        \n",
    "        pbounds:        bounds on parameters        \n",
    "        acq:            acquisition function, 'ei', 'ucb'        \n",
    "        opt:            optimization toolbox, 'nlopt','direct','scipy'\n",
    "        \n",
    "        Returns\n",
    "        -------\n",
    "        dim:            dimension\n",
    "        bounds:         bounds on original scale\n",
    "        scalebounds:    bounds on normalized scale of 0-1\n",
    "        time_opt:       will record the time spent on optimization\n",
    "        gp:             Gaussian Process object\n",
    "        \"\"\"\n",
    "\n",
    "        # Find number of parameters\n",
    "        self.dim = len(pbounds)\n",
    "\n",
    "        # Create an array with parameters bounds\n",
    "        if isinstance(pbounds,dict):\n",
    "            # Get the name of the parameters\n",
    "            self.keys = list(pbounds.keys())\n",
    "        \n",
    "            self.bounds = []\n",
    "            for key in pbounds.keys():\n",
    "                self.bounds.append(pbounds[key])\n",
    "            self.bounds = np.asarray(self.bounds)\n",
    "        else:\n",
    "            self.bounds=np.asarray(pbounds)\n",
    "\n",
    "        # create a scalebounds 0-1\n",
    "        scalebounds=np.array([np.zeros(self.dim), np.ones(self.dim)])\n",
    "        self.scalebounds=scalebounds.T\n",
    "        \n",
    "        self.max_min_gap=self.bounds[:,1]-self.bounds[:,0]\n",
    "        \n",
    "        # Some function to be optimized\n",
    "        self.f = f\n",
    "        # optimization toolbox\n",
    "        self.opt=opt\n",
    "        # acquisition function type\n",
    "        self.acq=acq\n",
    "        \n",
    "        # store X in original scale\n",
    "        self.X_original= None\n",
    "\n",
    "        # store X in 0-1 scale\n",
    "        self.X = None\n",
    "        \n",
    "        # store y=f(x)\n",
    "        self.Y = None\n",
    "        \n",
    "        self.time_opt=0\n",
    "\n",
    "\n",
    "        self.k_Neighbor=2\n",
    "        \n",
    "        # Lipschitz constant\n",
    "        self.L=0\n",
    "        \n",
    "        \n",
    "        # Gaussian Process class\n",
    "        self.gp=PradaGaussianProcess\n",
    "\n",
    "        # acquisition function\n",
    "        self.acq_func = None\n",
    "    \n",
    "    # will be later used for visualization\n",
    "    def posterior(self, Xnew):\n",
    "        self.gp.fit(self.X, self.Y)\n",
    "        mu, sigma2 = self.gp.predict(Xnew, eval_MSE=True)\n",
    "        return mu, np.sqrt(sigma2)\n",
    "    \n",
    "    \n",
    "    def init(self, gp_params, n_init_points=3):\n",
    "        \"\"\"      \n",
    "        Input parameters\n",
    "        ----------\n",
    "        gp_params:            Gaussian Process structure      \n",
    "        n_init_points:        # init points\n",
    "        \"\"\"\n",
    "\n",
    "        # Generate random points\n",
    "        l = [np.random.uniform(x[0], x[1], size=n_init_points) for x in self.bounds]\n",
    "\n",
    "        # Concatenate new random points to possible existing\n",
    "        # points from self.explore method.\n",
    "        temp=np.asarray(l)\n",
    "        temp=temp.T\n",
    "        init_X=list(temp.reshape((n_init_points,-1)))\n",
    "        \n",
    "        self.X_original = np.asarray(init_X)\n",
    "        \n",
    "        # Evaluate target function at all initialization           \n",
    "        y_init=self.f(init_X)\n",
    "        y_init=np.reshape(y_init,(n_init_points,1))\n",
    "        self.Y = np.asarray(y_init)\n",
    "        \n",
    "        # convert it to scaleX\n",
    "        temp_init_point=np.divide((init_X-self.bounds[:,0]),self.max_min_gap)\n",
    "        \n",
    "        self.X = np.asarray(temp_init_point)"
   ]
  },
  {
   "cell_type": "code",
   "execution_count": 1,
   "metadata": {},
   "outputs": [],
   "source": [
    "import ppo_functions as pfunctions\n",
    "import numpy as np"
   ]
  },
  {
   "cell_type": "code",
   "execution_count": 2,
   "metadata": {},
   "outputs": [
    {
     "name": "stdout",
     "output_type": "stream",
     "text": [
      "OrderedDict([('lambda', (0, 1)), ('gamma', (0, 1))])\n",
      "2\n",
      "{'theta': 0.2, 'noise_delta': 0.1}\n",
      "[[0 1]\n",
      " [0 1]]\n"
     ]
    }
   ],
   "source": [
    "myfunction = pfunctions.PpoImport()\n",
    "pbounds = myfunction.bounds\n",
    "print (myfunction.bounds)\n",
    "print (len(myfunction.bounds))\n",
    "\n",
    "gp_params = {'theta':0.1*2,'noise_delta':0.1}\n",
    "\n",
    "print (gp_params)\n",
    "\n",
    "# Create an array with parameters bounds\n",
    "if isinstance(pbounds,dict):\n",
    "    # Get the name of the parameters\n",
    "    keys = list(pbounds.keys())\n",
    "\n",
    "    bounds = []\n",
    "    for key in pbounds.keys():\n",
    "        bounds.append(pbounds[key])\n",
    "    bounds = np.asarray(bounds)\n",
    "else:\n",
    "    bounds=np.asarray(pbounds)\n",
    "    \n",
    "print (bounds)"
   ]
  },
  {
   "cell_type": "code",
   "execution_count": 3,
   "metadata": {},
   "outputs": [
    {
     "name": "stdout",
     "output_type": "stream",
     "text": [
      "ppoGAE_import2\n"
     ]
    }
   ],
   "source": [
    "print (myfunction.name)"
   ]
  },
  {
   "cell_type": "code",
   "execution_count": 4,
   "metadata": {
    "scrolled": false
   },
   "outputs": [
    {
     "data": {
      "image/png": "[encoded data removed]",
      "text/plain": [
       "<Figure size 1440x360 with 1 Axes>"
      ]
     },
     "metadata": {},
     "output_type": "display_data"
    },
    {
     "name": "stdout",
     "output_type": "stream",
     "text": [
      "rewards:  -1447.4342069261884\n",
      "loss:  [tensor(0.1107, device='cuda:0')]\n",
      "func_re:  [0.1988288015127182, 0.2397281974554062, 0.11073378473520279]\n",
      "y_init:  [0.1988288015127182, 0.2397281974554062, 0.11073378473520279]\n"
     ]
    }
   ],
   "source": [
    "# Generate random points\n",
    "l = [np.random.uniform(x[0], x[1], size=3) for x in bounds]\n",
    "\n",
    "n_init_points = 3\n",
    "\n",
    "print (l)\n",
    "\n",
    "temp=np.asarray(l)\n",
    "temp=temp.T\n",
    "init_X=list(temp.reshape((n_init_points,-1)))\n",
    "\n",
    "print (init_X)\n",
    "\n",
    "X_original = np.asarray(init_X)\n",
    "\n",
    "# Evaluate target function at all initialization           \n",
    "y_init=myfunction.func(init_X)\n",
    "print (\"y_init: \", y_init)\n",
    "\n",
    "y_init=np.reshape(y_init,(n_init_points,1))\n",
    "Y = np.asarray(y_init)"
   ]
  },
  {
   "cell_type": "code",
   "execution_count": 7,
   "metadata": {},
   "outputs": [
    {
     "name": "stdout",
     "output_type": "stream",
     "text": [
      "Temp:  [[0.24918405 0.81934347]\n",
      " [0.49503057 0.91874498]\n",
      " [0.55723222 0.0184111 ]]\n",
      "X [[0.24918405 0.81934347]\n",
      " [0.49503057 0.91874498]\n",
      " [0.55723222 0.0184111 ]]\n"
     ]
    }
   ],
   "source": [
    "max_min_gap=bounds[:,1]-bounds[:,0]\n",
    "\n",
    "temp_init_point=np.divide((init_X-bounds[:,0]),max_min_gap)\n",
    "\n",
    "print (\"Temp: \", temp_init_point)\n",
    "\n",
    "X = np.asarray(temp_init_point)\n",
    "\n",
    "print (\"X\", X)"
   ]
  },
  {
   "cell_type": "code",
   "execution_count": null,
   "metadata": {},
   "outputs": [],
   "source": [
    "#     def init(self, gp_params, n_init_points=3):\n",
    "        \"\"\"      \n",
    "        Input parameters\n",
    "        ----------\n",
    "        gp_params:            Gaussian Process structure      \n",
    "        n_init_points:        # init points\n",
    "        \"\"\"\n",
    "\n",
    "# # Generate random points\n",
    "# l = [np.random.uniform(x[0], x[1], size=3) for x in myfunction.bounds]\n",
    "\n",
    "# print (l)\n",
    "\n",
    "# Concatenate new random points to possible existing\n",
    "# points from self.explore method.\n",
    "temp=np.asarray(l)\n",
    "temp=temp.T\n",
    "init_X=list(temp.reshape((n_init_points,-1)))\n",
    "\n",
    "self.X_original = np.asarray(init_X)\n",
    "\n",
    "# Evaluate target function at all initialization           \n",
    "y_init=self.f(init_X)\n",
    "y_init=np.reshape(y_init,(n_init_points,1))\n",
    "self.Y = np.asarray(y_init)\n",
    "\n",
    "# convert it to scaleX\n",
    "temp_init_point=np.divide((init_X-self.bounds[:,0]),self.max_min_gap)\n",
    "\n",
    "self.X = np.asarray(temp_init_point)"
   ]
  },
  {
   "cell_type": "code",
   "execution_count": null,
   "metadata": {},
   "outputs": [],
   "source": []
  }
 ],
 "metadata": {
  "kernelspec": {
   "display_name": "Python 3",
   "language": "python",
   "name": "python3"
  },
  "language_info": {
   "codemirror_mode": {
    "name": "ipython",
    "version": 3
   },
   "file_extension": ".py",
   "mimetype": "text/x-python",
   "name": "python",
   "nbconvert_exporter": "python",
   "pygments_lexer": "ipython3",
   "version": "3.6.4"
  }
 },
 "nbformat": 4,
 "nbformat_minor": 2
}
